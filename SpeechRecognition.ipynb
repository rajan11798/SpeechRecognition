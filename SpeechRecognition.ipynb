{
 "cells": [
  {
   "cell_type": "code",
   "execution_count": 1,
   "id": "ffbf780d",
   "metadata": {},
   "outputs": [],
   "source": [
    "import speech_recognition as sr\n",
    "import pyttsx3"
   ]
  },
  {
   "cell_type": "code",
   "execution_count": 2,
   "id": "8f112f8f",
   "metadata": {},
   "outputs": [],
   "source": [
    "#initialize the recognizer\n",
    "r = sr.Recognizer()\n",
    "#function to convert text to speech\n",
    "def SpeakText(command):\n",
    "    #initialize the engine\n",
    "    engine = pyttsx3.init()\n",
    "    engine.say(command)\n",
    "    engine.runAndWait()\n"
   ]
  },
  {
   "cell_type": "code",
   "execution_count": 3,
   "id": "3d864b68",
   "metadata": {},
   "outputs": [
    {
     "name": "stdout",
     "output_type": "stream",
     "text": [
      "Silence please, calibrating background noise\n",
      "calibrated, now speak.....\n",
      "Did you say hello\n"
     ]
    }
   ],
   "source": [
    "with sr.Microphone() as source:\n",
    "    #wait for a second to let the recognizer adjust the energy threshold based on the surrounding noice level\n",
    "    \n",
    "    print(\"Silence please, calibrating background noise\")\n",
    "    r.adjust_for_ambient_noise(source, duration=2)\n",
    "    print(\"calibrated, now speak.....\")\n",
    "    \n",
    "    \n",
    "    #listen for the user's input\n",
    "    audio = r.listen(source)\n",
    "    \n",
    "    #using google to recognize audio\n",
    "    MyText = r.recognize_google(audio)\n",
    "    MyText = MyText.lower()\n",
    "    \n",
    "    print(\"Did you say \"+MyText)\n",
    "    SpeakText(MyText)"
   ]
  },
  {
   "cell_type": "code",
   "execution_count": null,
   "id": "85e157d4",
   "metadata": {},
   "outputs": [],
   "source": []
  }
 ],
 "metadata": {
  "kernelspec": {
   "display_name": "Python 3",
   "language": "python",
   "name": "python3"
  },
  "language_info": {
   "codemirror_mode": {
    "name": "ipython",
    "version": 3
   },
   "file_extension": ".py",
   "mimetype": "text/x-python",
   "name": "python",
   "nbconvert_exporter": "python",
   "pygments_lexer": "ipython3",
   "version": "3.8.8"
  }
 },
 "nbformat": 4,
 "nbformat_minor": 5
}
